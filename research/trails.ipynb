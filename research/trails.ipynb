{
 "cells": [
  {
   "cell_type": "code",
   "execution_count": null,
   "metadata": {},
   "outputs": [],
   "source": [
    "from langchain.document_loaders import PyMuPDFLoader, DirectoryLoader\n",
    "from langchain.text_splitter import RecursiveCharacterTextSplitter\n",
    "from langchain.embeddings import OpenAIEmbeddings\n",
    "import os"
   ]
  },
  {
   "cell_type": "code",
   "execution_count": 2,
   "metadata": {},
   "outputs": [],
   "source": [
    "def load_pdf_file(data):\n",
    "    loader = DirectoryLoader(data,\n",
    "                             glob=\"*.pdf\",\n",
    "                             loader_cls=PyMuPDFLoader)\n",
    "    \n",
    "    documents = loader.load()\n",
    "    \n",
    "    return documents"
   ]
  },
  {
   "cell_type": "code",
   "execution_count": 4,
   "metadata": {},
   "outputs": [],
   "source": [
    "extracted_data = load_pdf_file(\"../data\")"
   ]
  },
  {
   "cell_type": "code",
   "execution_count": null,
   "metadata": {},
   "outputs": [
    {
     "data": {
      "text/plain": [
       "637"
      ]
     },
     "execution_count": 5,
     "metadata": {},
     "output_type": "execute_result"
    }
   ],
   "source": [
    "len(extracted_data)"
   ]
  },
  {
   "cell_type": "code",
   "execution_count": 6,
   "metadata": {},
   "outputs": [
    {
     "data": {
      "text/plain": [
       "Document(metadata={'producer': 'PDFlib+PDI 5.0.0 (SunOS)', 'creator': '', 'creationdate': '2004-12-18T17:00:02-05:00', 'source': '..\\\\data\\\\Medical_book.pdf', 'file_path': '..\\\\data\\\\Medical_book.pdf', 'total_pages': 637, 'format': 'PDF 1.5', 'title': '', 'author': '', 'subject': '', 'keywords': '', 'moddate': '2004-12-18T16:15:31-06:00', 'trapped': '', 'modDate': \"D:20041218161531-06'00'\", 'creationDate': \"D:20041218170002-05'00'\", 'page': 0}, page_content='')"
      ]
     },
     "execution_count": 6,
     "metadata": {},
     "output_type": "execute_result"
    }
   ],
   "source": [
    "extracted_data[0]"
   ]
  },
  {
   "cell_type": "code",
   "execution_count": 7,
   "metadata": {},
   "outputs": [],
   "source": [
    "#Split the Data into Text Chunks\n",
    "def text_split(extracted_data):\n",
    "    text_splitter=RecursiveCharacterTextSplitter(chunk_size=500, chunk_overlap=20)\n",
    "    text_chunks=text_splitter.split_documents(extracted_data)\n",
    "    return text_chunks"
   ]
  },
  {
   "cell_type": "code",
   "execution_count": 8,
   "metadata": {},
   "outputs": [
    {
     "name": "stdout",
     "output_type": "stream",
     "text": [
      "Length of Text Chunks 5777\n"
     ]
    }
   ],
   "source": [
    "text_chunks=text_split(extracted_data)\n",
    "print(\"Length of Text Chunks\", len(text_chunks))"
   ]
  },
  {
   "cell_type": "code",
   "execution_count": 11,
   "metadata": {},
   "outputs": [],
   "source": [
    "from langchain.embeddings import HuggingFaceEmbeddings\n",
    "\n",
    "def download_hugging_face_embeddings():\n",
    "    embeddings=HuggingFaceEmbeddings(model_name='sentence-transformers/all-MiniLM-L6-v2')\n",
    "    return embeddings\n",
    "\n",
    "embeddings = download_hugging_face_embeddings()"
   ]
  },
  {
   "cell_type": "code",
   "execution_count": 6,
   "metadata": {},
   "outputs": [
    {
     "data": {
      "text/plain": [
       "True"
      ]
     },
     "execution_count": 6,
     "metadata": {},
     "output_type": "execute_result"
    }
   ],
   "source": [
    "from dotenv import load_dotenv\n",
    "\n",
    "load_dotenv()"
   ]
  },
  {
   "cell_type": "code",
   "execution_count": 7,
   "metadata": {},
   "outputs": [],
   "source": [
    "PINECONE_API_KEY=os.environ.get('PINECONE_API_KEY')\n",
    "OPENAI_API_KEY=os.environ.get('OPENAI_API_KEY')"
   ]
  },
  {
   "cell_type": "code",
   "execution_count": null,
   "metadata": {},
   "outputs": [
    {
     "name": "stderr",
     "output_type": "stream",
     "text": [
      "C:\\Users\\HP\\AppData\\Local\\Temp\\ipykernel_20312\\2497576997.py:1: LangChainDeprecationWarning: The class `OpenAIEmbeddings` was deprecated in LangChain 0.0.9 and will be removed in 1.0. An updated version of the class exists in the :class:`~langchain-openai package and should be used instead. To use it run `pip install -U :class:`~langchain-openai` and import as `from :class:`~langchain_openai import OpenAIEmbeddings``.\n",
      "  embeddings = OpenAIEmbeddings()\n"
     ]
    }
   ],
   "source": [
    "# embeddings = OpenAIEmbeddings()"
   ]
  },
  {
   "cell_type": "code",
   "execution_count": 13,
   "metadata": {},
   "outputs": [],
   "source": [
    "result = embeddings.embed_query(\"Hello\")"
   ]
  },
  {
   "cell_type": "code",
   "execution_count": 14,
   "metadata": {},
   "outputs": [
    {
     "data": {
      "text/plain": [
       "1536"
      ]
     },
     "execution_count": 14,
     "metadata": {},
     "output_type": "execute_result"
    }
   ],
   "source": [
    "len(result)"
   ]
  },
  {
   "cell_type": "code",
   "execution_count": 9,
   "metadata": {},
   "outputs": [],
   "source": [
    "os.environ[\"PINECONE_API_KEY\"] = PINECONE_API_KEY"
   ]
  },
  {
   "cell_type": "code",
   "execution_count": 13,
   "metadata": {},
   "outputs": [],
   "source": [
    "from langchain_pinecone import PineconeVectorStore"
   ]
  },
  {
   "cell_type": "code",
   "execution_count": 10,
   "metadata": {},
   "outputs": [],
   "source": [
    "index_name = \"medicalbot\""
   ]
  },
  {
   "cell_type": "code",
   "execution_count": null,
   "metadata": {},
   "outputs": [],
   "source": [
    "# docsearch = PineconeVectorStore.from_documents(\n",
    "#     text_chunks,\n",
    "#     index_name=index_name,\n",
    "#     embedding=embeddings, \n",
    "# )"
   ]
  },
  {
   "cell_type": "code",
   "execution_count": 14,
   "metadata": {},
   "outputs": [],
   "source": [
    "doc = PineconeVectorStore.from_existing_index(index_name=index_name, embedding=embeddings)"
   ]
  },
  {
   "cell_type": "code",
   "execution_count": 15,
   "metadata": {},
   "outputs": [],
   "source": [
    "retriever = doc.as_retriever(search_type='similarity',search_kwargs={\"k\": 3})"
   ]
  },
  {
   "cell_type": "code",
   "execution_count": 16,
   "metadata": {},
   "outputs": [],
   "source": [
    "retrieved_doc = retriever.invoke('What is the symptoms of a headache?')"
   ]
  },
  {
   "cell_type": "code",
   "execution_count": 17,
   "metadata": {},
   "outputs": [
    {
     "data": {
      "text/plain": [
       "[Document(id='af025828-5ff8-4421-9fb8-1e14a4bea5b9', metadata={'author': '', 'creationDate': \"D:20041218170002-05'00'\", 'creationdate': '2004-12-18T17:00:02-05:00', 'creator': '', 'file_path': '/content/data/Medical_book.pdf', 'format': 'PDF 1.5', 'keywords': '', 'modDate': \"D:20041218161531-06'00'\", 'moddate': '2004-12-18T16:15:31-06:00', 'page': 302.0, 'producer': 'PDFlib+PDI 5.0.0 (SunOS)', 'source': '/content/data/Medical_book.pdf', 'subject': '', 'title': '', 'total_pages': 637.0, 'trapped': ''}, page_content='Purpose\\nMigraine headaches usually cause a throbbing pain\\non one side of the head. Nausea, vomiting, dizziness,\\nincreased sensitivity to light and sound, and other symp-\\ntoms may accompany the pain. The attacks may last for\\nseveral hours or for a day or more and may come as often\\nas several times a week. Some people who get migraine\\nheadaches have warning signals before the headaches\\nbegin, such as restlessness, tingling in an arm or leg, or'),\n",
       " Document(id='845a3943-1aaf-42ba-bf52-7630045fd01e', metadata={'author': '', 'creationDate': \"D:20041218170002-05'00'\", 'creationdate': '2004-12-18T17:00:02-05:00', 'creator': '', 'file_path': '/content/data/Medical_book.pdf', 'format': 'PDF 1.5', 'keywords': '', 'modDate': \"D:20041218161531-06'00'\", 'moddate': '2004-12-18T16:15:31-06:00', 'page': 371.0, 'producer': 'PDFlib+PDI 5.0.0 (SunOS)', 'source': '/content/data/Medical_book.pdf', 'subject': '', 'title': '', 'total_pages': 637.0, 'trapped': ''}, page_content='den severe headache. Additional warning signs of a\\nbleeding AVM are impaired speech or smell, fainting,\\nfacial paralysis, a drooping eyelid, dizziness, and ringing\\nor buzzing in the ears.\\nAlthough large AVMs are less likely to hemorrhage,\\nthey can induce symptoms based on their mass alone.\\nLarge AVMs exert pressure against brain tissue, cause\\nabnormal development in the surrounding brain tissue,\\nand slow down or block blood flow. Hydrocephalus, a'),\n",
       " Document(id='df0d9834-2d2a-4902-a70e-537560c82b0c', metadata={'author': '', 'creationDate': \"D:20041218170002-05'00'\", 'creationdate': '2004-12-18T17:00:02-05:00', 'creator': '', 'file_path': '/content/data/Medical_book.pdf', 'format': 'PDF 1.5', 'keywords': '', 'modDate': \"D:20041218161531-06'00'\", 'moddate': '2004-12-18T16:15:31-06:00', 'page': 265.0, 'producer': 'PDFlib+PDI 5.0.0 (SunOS)', 'source': '/content/data/Medical_book.pdf', 'subject': '', 'title': '', 'total_pages': 637.0, 'trapped': ''}, page_content='• painful, bluish or purplish fingers or toes\\n• puffy or swollen eyelids, face, feet, or lower legs\\n• changes in the color of the face\\n• skin rash, itching, or hives\\n• yellow eyes or skin\\n• severe or continuing headache\\n• sore throat and fever, with or without chills\\n• breathing problems or wheezing\\n• tightness in the chest\\n• dizziness\\n• unusual tiredness or weakness\\n• weight gain\\nIn addition, patients taking anticoagulant drugs\\nshould check with their physicians as soon as possible if')]"
      ]
     },
     "execution_count": 17,
     "metadata": {},
     "output_type": "execute_result"
    }
   ],
   "source": [
    "retrieved_doc"
   ]
  },
  {
   "cell_type": "code",
   "execution_count": 18,
   "metadata": {},
   "outputs": [],
   "source": [
    "from langchain_openai import OpenAI\n",
    "\n",
    "llm = OpenAI(temperature=0.4, max_tokens=100)"
   ]
  },
  {
   "cell_type": "code",
   "execution_count": 19,
   "metadata": {},
   "outputs": [],
   "source": [
    "from langchain.chains import create_retrieval_chain\n",
    "from langchain.chains.combine_documents import create_stuff_documents_chain\n",
    "from langchain_core.prompts import ChatPromptTemplate\n",
    "\n",
    "system_prompt = (\n",
    "    \"You are an assistant for question-answering tasks. \"\n",
    "    \"Use the following pieces of retrieved context to answer \"\n",
    "    \"the question. If you don't know the answer, say that you \"\n",
    "    \"don't know. Use three sentences maximum and keep the \"\n",
    "    \"answer concise.\"\n",
    "    \"\\n\\n\"\n",
    "    \"{context}\"\n",
    "    )"
   ]
  },
  {
   "cell_type": "code",
   "execution_count": 21,
   "metadata": {},
   "outputs": [],
   "source": [
    "prompt = ChatPromptTemplate.from_messages([\n",
    "    (\"system\",system_prompt),\n",
    "    (\"human\",\"{input}\"),\n",
    "])"
   ]
  },
  {
   "cell_type": "code",
   "execution_count": 23,
   "metadata": {},
   "outputs": [],
   "source": [
    "question_answer_chain = create_stuff_documents_chain(llm,prompt)\n",
    "rag_chain = create_retrieval_chain(retriever, question_answer_chain)"
   ]
  },
  {
   "cell_type": "code",
   "execution_count": 26,
   "metadata": {},
   "outputs": [
    {
     "name": "stdout",
     "output_type": "stream",
     "text": [
      "\n",
      "\n",
      "Migraine headaches usually cause a throbbing pain on one side of the head, accompanied by symptoms such as nausea, vomiting, dizziness, increased sensitivity to light and sound. The attacks can last for several hours or more and may occur multiple times a week. Some people may experience warning signs before a migraine, such as restlessness or tingling in the limbs.\n"
     ]
    }
   ],
   "source": [
    "response = rag_chain.invoke({\"input\":\"What is the symptoms of a headache?\"})\n",
    "print(response['answer'])"
   ]
  },
  {
   "cell_type": "code",
   "execution_count": 29,
   "metadata": {},
   "outputs": [
    {
     "name": "stdout",
     "output_type": "stream",
     "text": [
      "\n",
      "I'm sorry, I don't know what you mean by \"stats.\" Can you provide more context or clarify your question?\n"
     ]
    }
   ],
   "source": [
    "response = rag_chain.invoke({\"input\":\"What is stats?\"})\n",
    "print(response['answer'])"
   ]
  },
  {
   "cell_type": "code",
   "execution_count": null,
   "metadata": {},
   "outputs": [],
   "source": []
  }
 ],
 "metadata": {
  "kernelspec": {
   "display_name": ".venv",
   "language": "python",
   "name": "python3"
  },
  "language_info": {
   "codemirror_mode": {
    "name": "ipython",
    "version": 3
   },
   "file_extension": ".py",
   "mimetype": "text/x-python",
   "name": "python",
   "nbconvert_exporter": "python",
   "pygments_lexer": "ipython3",
   "version": "3.12.7"
  }
 },
 "nbformat": 4,
 "nbformat_minor": 2
}
