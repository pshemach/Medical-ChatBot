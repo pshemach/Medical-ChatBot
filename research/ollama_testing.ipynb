{
 "cells": [
  {
   "cell_type": "code",
   "execution_count": 1,
   "metadata": {},
   "outputs": [],
   "source": [
    "import requests\n",
    "import json"
   ]
  },
  {
   "cell_type": "code",
   "execution_count": 14,
   "metadata": {},
   "outputs": [],
   "source": [
    "url = \"http://localhost:11434/api/chat\""
   ]
  },
  {
   "cell_type": "code",
   "execution_count": 15,
   "metadata": {},
   "outputs": [],
   "source": [
    "payload = {\n",
    "    \"model\" : 'deepseek-r1:7b',\n",
    "    \"messages\" : [{\"role\":\"user\",\"content\":'Hello, how are you?'}]\n",
    "}"
   ]
  },
  {
   "cell_type": "code",
   "execution_count": 16,
   "metadata": {},
   "outputs": [],
   "source": [
    "response = requests.post(url, json=payload)"
   ]
  },
  {
   "cell_type": "code",
   "execution_count": 18,
   "metadata": {},
   "outputs": [
    {
     "name": "stdout",
     "output_type": "stream",
     "text": [
      "AI Response: <think>\n",
      "\n",
      "</think>\n",
      "\n",
      "Hello! I'm just a virtual assistant, so I don't have feelings, but I'm here and ready to help you with whatever you need. How are you doing today? 😊\n"
     ]
    }
   ],
   "source": [
    "full_response = \"\"\n",
    "\n",
    "# Read response line by line\n",
    "for line in response.iter_lines():\n",
    "    if line:\n",
    "        json_data = json.loads(line)  # Convert each JSON line to a dictionary\n",
    "        if \"message\" in json_data and \"content\" in json_data[\"message\"]:\n",
    "            full_response += json_data[\"message\"][\"content\"]  # Append message content\n",
    "\n",
    "print(\"AI Response:\", full_response)"
   ]
  },
  {
   "cell_type": "code",
   "execution_count": 30,
   "metadata": {},
   "outputs": [],
   "source": [
    "template=\"Generate a professional, engaging, and sales-focused description for a vehicle maintenance service in bullet-point format. The service includes oil changes, brake repairs, tire rotations, and engine diagnostics.\""
   ]
  },
  {
   "cell_type": "code",
   "execution_count": 31,
   "metadata": {},
   "outputs": [],
   "source": [
    "response = requests.post(\n",
    "        \"http://localhost:11434/api/generate\",\n",
    "        json={\"model\": 'deepseek-r1:7b', \"prompt\": template}\n",
    "    )"
   ]
  },
  {
   "cell_type": "code",
   "execution_count": 32,
   "metadata": {},
   "outputs": [
    {
     "name": "stdout",
     "output_type": "stream",
     "text": [
      "AI Response: <think>\n",
      "Alright, I need to help this user create a professional yet engaging bullet-point list for their vehicle maintenance service. They mentioned including oil changes, brake repairs, tire rotations, and engine diagnostics.\n",
      "\n",
      "First, I'll start by brainstorming each service's benefits. For oil changes, it's crucial to highlight preventing engine damage and maintaining performance. Maybe something like \"Regular Oil Changes\" and mention the interval of every 3000 miles or 6 months.\n",
      "\n",
      "Next, brake repairs are essential for safety, so emphasizing safety and reliability makes sense. I should include the types of brakes they service, like antilock or disc brakes, to show expertise.\n",
      "\n",
      "For tire rotations, the focus is on even wear and optimal performance. I'll mention the recommended interval here too—every 5000 miles or seasonal adjustments based on driving conditions.\n",
      "\n",
      "Engine diagnostics are a bit more technical, so explaining how they help prevent breakdowns by catching issues early would be good. It's important to assure reliability without major repairs.\n",
      "\n",
      "I should make sure each bullet starts with an action verb and clearly states the service offered. Using positive language will make it inviting. Also, wrapping up with a friendly offer for further assistance can make it more approachable.\n",
      "\n",
      "Let me structure this neatly in bullet points, keeping each concise but informative. The goal is to make it sound professional yet welcoming, encouraging potential customers to choose their service.\n",
      "</think>\n",
      "\n",
      "- **Regular Oil Changes**  \n",
      "  - Prevent engine damage and optimize performance  \n",
      "  - Essential for maintaining your vehicle's longevity  \n",
      "\n",
      "- **Brake Repairs**  \n",
      "  - Ensure optimal brake function for safe driving  \n",
      "  - Expertise in all types of braking systems  \n",
      "\n",
      "- **Tire Rotations**  \n",
      "  - Maintain even tire wear and maximize lifespan  \n",
      "  - Tailored to your driving needs  \n",
      "\n",
      "- **Engine Diagnostics**  \n",
      "  - Identify potential issues before they escalate  \n",
      "  - Help maintain your vehicle's reliability  \n",
      "\n",
      "Looking forward to serving you! Let us keep your car running smoothly.\n"
     ]
    }
   ],
   "source": [
    "full_response = \"\"\n",
    "\n",
    "# Read response line by line\n",
    "for line in response.iter_lines():\n",
    "    if line:\n",
    "        json_data = json.loads(line)  # Convert each JSON line to a dictionary\n",
    "        if \"response\" in json_data:\n",
    "            full_response += json_data[\"response\"]  # Append response content\n",
    "\n",
    "print(\"AI Response:\", full_response)"
   ]
  },
  {
   "cell_type": "code",
   "execution_count": 35,
   "metadata": {},
   "outputs": [
    {
     "name": "stdout",
     "output_type": "stream",
     "text": [
      "\n",
      "\n",
      "- **Regular Oil Changes**  \n",
      "  - Prevent engine damage and optimize performance  \n",
      "  - Essential for maintaining your vehicle's longevity  \n",
      "\n",
      "- **Brake Repairs**  \n",
      "  - Ensure optimal brake function for safe driving  \n",
      "  - Expertise in all types of braking systems  \n",
      "\n",
      "- **Tire Rotations**  \n",
      "  - Maintain even tire wear and maximize lifespan  \n",
      "  - Tailored to your driving needs  \n",
      "\n",
      "- **Engine Diagnostics**  \n",
      "  - Identify potential issues before they escalate  \n",
      "  - Help maintain your vehicle's reliability  \n",
      "\n",
      "Looking forward to serving you! Let us keep your car running smoothly.\n"
     ]
    }
   ],
   "source": [
    "print(full_response.split(\"</think>\")[-1])"
   ]
  },
  {
   "cell_type": "code",
   "execution_count": 36,
   "metadata": {},
   "outputs": [],
   "source": [
    "def get_prompt(industry, package_name, services):\n",
    "    template = \"\"\"\n",
    "Generate a customer-attractive service package description in bullet points for a booking system website. The description should be engaging, persuasive, and include a strong call-to-action. Use simple, clear language and focus on the benefits to the customer. Keep the each pont under 10 words.\n",
    "\n",
    "**Industry**: {industry}\n",
    "**Package Name**: {package_name}\n",
    "**Services Included**: {services}\n",
    "\n",
    "Highlight the following:\n",
    "- Key benefits of the package (e.g., cost savings, convenience, expertise).\n",
    "- Why customers should choose this package.\n",
    "- A compellin\n",
    "\"\"\"\n",
    "    return template.format(industry=industry, package_name=package_name, services=services)\n",
    "\n",
    "industry = \"Car Maintenance\"\n",
    "package_name = \"Car Wash & Repair\"\n",
    "services = \", \".join([\"quality finish\",\" Paint decontamination and clay bar treatment\", \"Single-stage paint correction\", \"Leather treatment\"])\n",
    "\n",
    "prompt = get_prompt(industry, package_name, services)"
   ]
  },
  {
   "cell_type": "code",
   "execution_count": 38,
   "metadata": {},
   "outputs": [
    {
     "name": "stdout",
     "output_type": "stream",
     "text": [
      "\n",
      "Generate a customer-attractive service package description in bullet points for a booking system website. The description should be engaging, persuasive, and include a strong call-to-action. Use simple, clear language and focus on the benefits to the customer. Keep the each pont under 10 words.\n",
      "\n",
      "**Industry**: Car Maintenance\n",
      "**Package Name**: Car Wash & Repair\n",
      "**Services Included**: quality finish,  Paint decontamination and clay bar treatment, Single-stage paint correction, Leather treatment\n",
      "\n",
      "Highlight the following:\n",
      "- Key benefits of the package (e.g., cost savings, convenience, expertise).\n",
      "- Why customers should choose this package.\n",
      "- A compellin\n",
      "\n"
     ]
    }
   ],
   "source": [
    "print(prompt)"
   ]
  },
  {
   "cell_type": "code",
   "execution_count": 39,
   "metadata": {},
   "outputs": [],
   "source": [
    "response = requests.post(\n",
    "        \"http://localhost:11434/api/generate\",\n",
    "        json={\"model\": 'deepseek-r1:7b', \"prompt\": prompt}\n",
    "    )"
   ]
  },
  {
   "cell_type": "code",
   "execution_count": 40,
   "metadata": {},
   "outputs": [
    {
     "name": "stdout",
     "output_type": "stream",
     "text": [
      "AI Response: <think>\n",
      "Alright, I need to help the user generate a customer-attractive service package description for their Car Wash & Repair service on a booking system website. Let me break down what they're asking for.\n",
      "\n",
      "First, the main goal is to create bullet points that are engaging and persuasive with a strong call-to-action. They want each point under 10 words, so it needs to be concise but impactful. \n",
      "\n",
      "The industry is Car Maintenance, specifically focusing on Car Wash & Repair. The services include quality finish, paint decontamination, clay bar treatment, and single-stage paint correction, plus leather treatment.\n",
      "\n",
      "I should highlight key benefits like cost savings, convenience, and expertise. Also, the customers should understand why this package stands out—maybe because it's comprehensive or affordable compared to other options.\n",
      "\n",
      "The user mentioned \"highlighting\" certain aspects but I think they want each bullet point to emphasize one of these points. Let me list possible benefits:\n",
      "\n",
      "1. Comprehensive care: Covers all aspects from wash to paint correction.\n",
      "2. Experience: Top-notch services with expert technicians.\n",
      "3. Affordable: Cost-effective solution for maintenance.\n",
      "4. Quick service: Saves time, convenient.\n",
      "5. Long-lasting results: Better vehicle condition.\n",
      "\n",
      "Now, I'll structure each point to be a question followed by an offer of help, which is common in persuasive marketing. That should create a sense of urgency and encourage the customer to take action.\n",
      "\n",
      "I need to ensure each bullet starts with a verb like \"Get\" or \"Experience\" to engage the reader right away. Also, keeping it simple and clear since the user wants straightforward language without jargon.\n",
      "\n",
      "Putting it all together, I'll draft each point focusing on these benefits in a way that's easy to read and compelling.\n",
      "</think>\n",
      "\n",
      "- **Get a Comprehensive Car Wash & Repair Experience**  \n",
      "  Enjoy expert care with our high-quality finish, paint decontamination, clay bar treatment, single-stage paint correction, and leather treatment.  \n",
      "\n",
      "- **Experience Top-Class Car Maintenance**  \n",
      "  Save time and money with our professional team ensuring your vehicle looks and runs like new.  \n",
      "\n",
      "- **Affordable & Reliable Car Care Solutions**  \n",
      "  Our package is cost-effective for all your car maintenance needs, keeping you on the road hassle-free.  \n",
      "\n",
      "- **Get Your Car Back in Perfect Shape Fast**  \n",
      "  Enjoy quick, reliable service with our expert team handling everything from washes to paint correction.  \n",
      "\n",
      "- **Preserve Value & Enhance Performance**  \n",
      "  Protect your investment and maintain peak performance with our full-service car care package.  \n",
      "\n",
      "- **Book Now for a Stress-Free Experience**  \n",
      "  Choose our Car Wash & Repair package today and enjoy peace of mind knowing your vehicle is in great hands.  \n",
      "\n",
      "*Call to Action:*  \n",
      "“Schedule your appointment now and experience the difference of professional car care like never before!”  \n",
      "\n",
      "---\n",
      "\n",
      "Click or call now for a free quote and convenience you’ll love!\n"
     ]
    }
   ],
   "source": [
    "full_response = \"\"\n",
    "\n",
    "# Read response line by line\n",
    "for line in response.iter_lines():\n",
    "    if line:\n",
    "        json_data = json.loads(line)  # Convert each JSON line to a dictionary\n",
    "        if \"response\" in json_data:\n",
    "            full_response += json_data[\"response\"]  # Append response content\n",
    "\n",
    "print(\"AI Response:\", full_response)"
   ]
  },
  {
   "cell_type": "code",
   "execution_count": 41,
   "metadata": {},
   "outputs": [],
   "source": [
    "def get_prompt(industry, package_name, services):\n",
    "    template = \"\"\"\n",
    "Generate a customer-attractive service package description in bullet points for a booking system website.\n",
    "\n",
    "- **Industry**: {industry}\n",
    "- **Package Name**: {package_name}\n",
    "- **Services Included**: {services}\n",
    "\n",
    "**Guidelines:**\n",
    "1. Use simple, engaging, and persuasive language.\n",
    "2. Keep each bullet point under **10 words**.\n",
    "3. Highlight **key benefits**, such as **cost savings, convenience, and expertise**.\n",
    "4. Explain **why customers should choose this package**.\n",
    "5. End with a **strong call-to-action**.\n",
    "\n",
    "**Format:**\n",
    "- **Start each bullet point with an action verb** (e.g., \"Get\", \"Enjoy\", \"Protect\").\n",
    "- **No explanations**—just **straight to the point marketing copy**.\n",
    "- **Do not include any meta-thinking or preamble**.\n",
    "- **Use markdown formatting for readability**.\n",
    "\n",
    "Now, generate the bullet points below:\n",
    "\"\"\"\n",
    "    return template.format(industry=industry, package_name=package_name, services=services)\n"
   ]
  },
  {
   "cell_type": "code",
   "execution_count": 42,
   "metadata": {},
   "outputs": [],
   "source": [
    "industry = \"Car Maintenance\"\n",
    "package_name = \"Car Wash & Repair\"\n",
    "services = \", \".join([\"quality finish\",\" Paint decontamination and clay bar treatment\", \"Single-stage paint correction\", \"Leather treatment\"])\n",
    "\n",
    "prompt = get_prompt(industry, package_name, services)"
   ]
  },
  {
   "cell_type": "code",
   "execution_count": 57,
   "metadata": {},
   "outputs": [],
   "source": [
    "response = requests.post(\n",
    "    \"http://localhost:11434/api/generate\",\n",
    "    json={\n",
    "        \"model\": \"deepseek-r1:7b\",\n",
    "        \"prompt\": prompt,\n",
    "        \"stream\": True,  # Ensures response is processed correctly\n",
    "        \"temperature\": 0.3,  # Lower temperature for better focus (0.7 is too creative)\n",
    "        \"top_k\": 10,  # Reduce randomness by limiting word selection\n",
    "        \"max_tokens\": 300,  # Prevent long, unnecessary responses\n",
    "    }\n",
    ")"
   ]
  },
  {
   "cell_type": "code",
   "execution_count": 58,
   "metadata": {},
   "outputs": [
    {
     "name": "stdout",
     "output_type": "stream",
     "text": [
      "<think>\n",
      "Okay, I need to create a customer-attractive service package description for a booking system website in the car maintenance industry. The package is called \"Car Wash & Repair\" and it includes services like quality finish, paint decontamination, clay bar treatment, and single-stage paint correction, plus leather treatment.\n",
      "\n",
      "First, I'll review the guidelines: use simple, engaging, persuasive language; each bullet point under 10 words; highlight key benefits such as cost savings, convenience, expertise; explain why customers should choose this package; end with a strong call-to-action. Each bullet starts with an action verb and no explanations—just marketing copy.\n",
      "\n",
      "I need to make sure I don't include any meta-thinking or preamble. So, it's all about the bullets that directly sell the benefits.\n",
      "\n",
      "Let me think about each service:\n",
      "\n",
      "1. Quality finish: this is about making the car look new again.\n",
      "2. Paint decontamination and clay bar treatment: removes dirt, grime, improves paint adhesion.\n",
      "3. Single-stage paint correction: restores colors without multiple steps.\n",
      "4. Leather treatment: preserves and enhances leather interior.\n",
      "\n",
      "Now, how to phrase each as a benefit:\n",
      "\n",
      "- Get a showroom-quality look with our deep clean service.\n",
      "- Enjoy a spotless finish and extended vehicle life with clay bar treatment.\n",
      "- Paint like new in one step with our expert correction service.\n",
      "- Protect your car's interior with premium leather care.\n",
      "\n",
      "I need to make these action-oriented, using verbs that inspire action. Also, end with a CTA like \"Book now for expert care\" to prompt customer action.\n",
      "\n",
      "Let me structure each bullet:\n",
      "\n",
      "1. Action verb + benefit: Get a showroom-quality look...\n",
      "2. Another benefit: Enjoy spotless finish...\n",
      "3. Single-stage correction: Paint like new in one step...\n",
      "4. Protect interior: Protect your car's interior...\n",
      "\n",
      "Each is under 10 words and highlights the key benefits.\n",
      "\n",
      "Wait, \"Showroom quality\" might be too generic. Maybe something more specific? Like \" showroom-quality shine.\"\n",
      "\n",
      "But it's concise. Also, ensure each point flows well and ends with a strong call to action.\n",
      "</think>\n",
      "\n",
      "- Get a showroom-quality look with our deep clean service.  \n",
      "- Enjoy a spotless finish and extended vehicle life with clay bar treatment.  \n",
      "- Paint like new in one step with our expert correction service.  \n",
      "- Protect your car's interior with premium leather care.  \n",
      "\n",
      "Book now for expert care and convenience!\n"
     ]
    }
   ],
   "source": [
    "import re\n",
    "\n",
    "def extract_bullet_points(text):\n",
    "    \"\"\"Extracts bullet points from the AI response.\"\"\"\n",
    "    bullet_points = re.findall(r\"- \\*\\*(.*?)\\*\\*\", text)  # Matches markdown bullet points\n",
    "    return \"\\n\".join([f\"- **{bp}**\" for bp in bullet_points]) if bullet_points else text\n",
    "\n",
    "full_response = \"\"\n",
    "\n",
    "# Read response line by line\n",
    "for line in response.iter_lines():\n",
    "    if line:\n",
    "        json_data = json.loads(line)\n",
    "        if \"response\" in json_data:\n",
    "            full_response += json_data[\"response\"]\n",
    "\n",
    "# Clean up response\n",
    "cleaned_response = extract_bullet_points(full_response)\n",
    "\n",
    "print(cleaned_response)"
   ]
  },
  {
   "cell_type": "code",
   "execution_count": 47,
   "metadata": {},
   "outputs": [],
   "source": [
    "response = requests.post(\n",
    "    \"http://localhost:11434/api/generate\",\n",
    "    json={\n",
    "        \"model\": \"deepseek-r1:7b\",  # Use a faster model if needed\n",
    "        \"prompt\": prompt,\n",
    "        \"stream\": True,  # Ensures real-time response processing\n",
    "        \"temperature\": 0.3,  # Reduces randomness and processing\n",
    "        \"top_k\": 5,  # Smaller values make it process faster\n",
    "        \"top_p\": 0.7,  # Limits diverse responses, speeds up generation\n",
    "        \"max_tokens\": 150,  # Reduces unnecessary output length\n",
    "        \"num_predict\": 1  # Ensures a single, direct response\n",
    "    }\n",
    ")"
   ]
  },
  {
   "cell_type": "code",
   "execution_count": 48,
   "metadata": {},
   "outputs": [
    {
     "name": "stdout",
     "output_type": "stream",
     "text": [
      "- **Get a spotless finish**\n",
      "- **Enjoy a clean and shiny exterior**\n",
      "- **Protect your investment**\n",
      "- **Remove dirt and debris**\n",
      "- **Maintain high-end looks**\n",
      "- **Keep your vehicle looking its best**\n",
      "- **Preserve color and prevent fading**\n",
      "- **Eliminate streaks and marks**\n",
      "- **Achieve a showroom-quality finish**\n",
      "- **Book now**\n"
     ]
    }
   ],
   "source": [
    "import re\n",
    "\n",
    "def extract_bullet_points(text):\n",
    "    \"\"\"Extracts bullet points from the AI response.\"\"\"\n",
    "    bullet_points = re.findall(r\"- \\*\\*(.*?)\\*\\*\", text)  # Matches markdown bullet points\n",
    "    return \"\\n\".join([f\"- **{bp}**\" for bp in bullet_points]) if bullet_points else text\n",
    "\n",
    "full_response = \"\"\n",
    "\n",
    "# Read response line by line\n",
    "for line in response.iter_lines():\n",
    "    if line:\n",
    "        json_data = json.loads(line)\n",
    "        if \"response\" in json_data:\n",
    "            full_response += json_data[\"response\"]\n",
    "\n",
    "# Clean up response\n",
    "cleaned_response = extract_bullet_points(full_response)\n",
    "\n",
    "print(cleaned_response)"
   ]
  },
  {
   "cell_type": "code",
   "execution_count": null,
   "metadata": {},
   "outputs": [],
   "source": []
  }
 ],
 "metadata": {
  "kernelspec": {
   "display_name": ".venv",
   "language": "python",
   "name": "python3"
  },
  "language_info": {
   "codemirror_mode": {
    "name": "ipython",
    "version": 3
   },
   "file_extension": ".py",
   "mimetype": "text/x-python",
   "name": "python",
   "nbconvert_exporter": "python",
   "pygments_lexer": "ipython3",
   "version": "3.12.7"
  }
 },
 "nbformat": 4,
 "nbformat_minor": 2
}
